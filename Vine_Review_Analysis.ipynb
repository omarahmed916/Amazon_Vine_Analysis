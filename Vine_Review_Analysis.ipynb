{
 "cells": [
  {
   "cell_type": "code",
   "execution_count": null,
   "id": "860a1fc2",
   "metadata": {},
   "outputs": [],
   "source": [
    "import os\n",
    "# Find the latest version of spark 2.0  from http://www-us.apache.org/dist/spark/ and enter as the spark version\n",
    "# For example:\n",
    "# spark_version = 'spark-3.0.0'\n",
    "spark_version = 'spark-3.0.1'\n",
    "os.environ['SPARK_VERSION']=spark_version\n",
    "\n",
    "# Install Spark and Java\n",
    "!apt-get update\n",
    "!apt-get install openjdk-11-jdk-headless -qq > /dev/null\n",
    "!wget -q http://www-us.apache.org/dist/spark/$SPARK_VERSION/$SPARK_VERSION-bin-hadoop2.7.tgz\n",
    "!tar xf $SPARK_VERSION-bin-hadoop2.7.tgz\n",
    "!pip install -q findspark\n",
    "\n",
    "# Set Environment Variables\n",
    "import os\n",
    "os.environ[\"JAVA_HOME\"] = \"/usr/lib/jvm/java-11-openjdk-amd64\"\n",
    "os.environ[\"SPARK_HOME\"] = f\"/content/{spark_version}-bin-hadoop2.7\"\n",
    "\n",
    "# Start a SparkSession\n",
    "import findspark\n",
    "findspark.init()"
   ]
  },
  {
   "cell_type": "code",
   "execution_count": null,
   "id": "425581ab",
   "metadata": {},
   "outputs": [],
   "source": [
    "from pyspark.sql import SparkSession\n",
    "spark = SparkSession.builder.appName(\"BigData-Challenge\").getOrCreate()"
   ]
  },
  {
   "cell_type": "code",
   "execution_count": null,
   "id": "e0a93a4c",
   "metadata": {},
   "outputs": [],
   "source": [
    "from pyspark import SparkFiles\n",
    "url = \"https://s3.amazonaws.com/amazon-reviews-pds/tsv/amazon_reviews_us_Video_Games_v1_00.tsv.gz\"\n",
    "spark.sparkContext.addFile(url)\n",
    "df = spark.read.option(\"encoding\", \"UTF-8\").csv(SparkFiles.get(\"amazon_reviews_us_Video_Games_v1_00.tsv.gz\"), sep=\"\\t\", header=True, inferSchema=True)\n",
    "df.show()"
   ]
  },
  {
   "cell_type": "code",
   "execution_count": null,
   "id": "a0050c94",
   "metadata": {},
   "outputs": [],
   "source": [
    "# filter DataFrame for total_votes above or equal to 20\n",
    "df1 = df.filter(df.total_votes >= 20)\n",
    "df1.show(5)"
   ]
  },
  {
   "cell_type": "code",
   "execution_count": null,
   "id": "2a5bbe4b",
   "metadata": {},
   "outputs": [],
   "source": [
    "# Filter DataFrame for helpful_votes ratio above or equal to 50%\n",
    "df2 = df1.filter((df1.helpful_votes / df1.total_votes) >= 0.5)\n",
    "df2.show(5)"
   ]
  },
  {
   "cell_type": "code",
   "execution_count": null,
   "id": "90686999",
   "metadata": {},
   "outputs": [],
   "source": [
    "# Create paid vine DataFrame\n",
    "paid_df = df2.filter(df2.vine == 'Y')\n",
    "paid_df.show(5)"
   ]
  },
  {
   "cell_type": "code",
   "execution_count": null,
   "id": "259c1f99",
   "metadata": {},
   "outputs": [],
   "source": [
    "# Create unpaid vine DataFrame\n",
    "unpaid_df = df2.filter(df2.vine == 'N')\n",
    "unpaid_df.show(5)"
   ]
  },
  {
   "cell_type": "code",
   "execution_count": null,
   "id": "b99d35b4",
   "metadata": {},
   "outputs": [],
   "source": [
    "# paid total number of reviews\n",
    "total_paid_reviews = paid_df.count()\n",
    "total_paid_reviews"
   ]
  },
  {
   "cell_type": "code",
   "execution_count": null,
   "id": "76d03144",
   "metadata": {},
   "outputs": [],
   "source": [
    "# paid 5-star reviews\n",
    "paid_five_star_reviews = paid_df.filter(paid_df.star_rating == 5).count()\n",
    "paid_five_star_reviews"
   ]
  },
  {
   "cell_type": "code",
   "execution_count": null,
   "id": "a0710510",
   "metadata": {},
   "outputs": [],
   "source": [
    "# paid 5-star reviews percentage\n",
    "paid_five_star_percent = (paid_five_star_reviews / total_paid_reviews) * 100\n",
    "paid_five_star_percent"
   ]
  },
  {
   "cell_type": "code",
   "execution_count": null,
   "id": "7a3ce894",
   "metadata": {},
   "outputs": [],
   "source": [
    "# unpaid total number of reviews\n",
    "total_unpaid_reviews = unpaid_df.count()\n",
    "total_unpaid_reviews"
   ]
  },
  {
   "cell_type": "code",
   "execution_count": null,
   "id": "66ca8672",
   "metadata": {},
   "outputs": [],
   "source": [
    "# unpaid 5-star reviews\n",
    "unpaid_five_star_reviews = unpaid_df.filter(unpaid_df.star_rating == 5).count()\n",
    "unpaid_five_star_reviews"
   ]
  },
  {
   "cell_type": "code",
   "execution_count": null,
   "id": "365ce5e5",
   "metadata": {},
   "outputs": [],
   "source": [
    "# unpaid 5-star reviews percentage\n",
    "unpaid_five_star_percent = (unpaid_five_star_reviews / total_unpaid_reviews) * 100\n",
    "unpaid_five_star_percent"
   ]
  }
 ],
 "metadata": {
  "kernelspec": {
   "display_name": "PythonData",
   "language": "python",
   "name": "pythondata"
  },
  "language_info": {
   "codemirror_mode": {
    "name": "ipython",
    "version": 3
   },
   "file_extension": ".py",
   "mimetype": "text/x-python",
   "name": "python",
   "nbconvert_exporter": "python",
   "pygments_lexer": "ipython3",
   "version": "3.8.8"
  }
 },
 "nbformat": 4,
 "nbformat_minor": 5
}
